{
 "cells": [
  {
   "cell_type": "markdown",
   "metadata": {},
   "source": [
    "# Diffusion\n",
    "\n",
    "In this notebook we will discuss briefly the basics of diffusion and its implementation in python. The main aim is to use the diffusion equation as a case study for numerical integration. \n",
    "\n",
    "## Theory\n",
    "\n",
    "Diffusion is defined as a mechanism that spread molecules from a region of high concentration to a region of lower concentration in space. \n",
    "\n",
    "<a title=\"BruceBlaus [CC BY 3.0 (https://creativecommons.org/licenses/by/3.0)], via Wikimedia Commons\" href=\"https://commons.wikimedia.org/wiki/File:Blausen_0315_Diffusion.png\"><img width=\"328\" alt=\"Blausen 0315 Diffusion\" src=\"https://upload.wikimedia.org/wikipedia/commons/thumb/f/f9/Blausen_0315_Diffusion.png/512px-Blausen_0315_Diffusion.png\"></a>\n",
    "$\\hspace{7cm}$ **Fig. 1**: The movement of dye spreading in water is an example of diffusion.\n",
    "\n",
    "The *Fig.* 1 shows how a drop of dye diffuses in water and occupy the available volume. Some other examples of diffusion are: a gas in the atmosphere, proteins moving in the extracellular environment, the ideas being diffused in society, etc. The concept of diffusion is widely applied across disciplines, from physics to economics.\n",
    "\n",
    "The diffusion equation following the Fick's Law is given by \n",
    "\n",
    "$$ \\partial_t c(x,y,z,t) =  D \\nabla^2 c(x,y,z,t) $$\n",
    "\n",
    "where $c(x,y,z,t)$ is a function defined in the space $\\mathcal{R}^3$, $D$ is the diffusion coefficient or diffusivity that is related to how fast the field $c$ diffuses in space, $\\nabla^2$ is the laplacian operator and $\\partial_t$ the partial time derivative.\n",
    "\n",
    "For a deeper discussion on Fick's Law and other types of diffusion, please take a look [here](https://en.wikipedia.org/wiki/Diffusion). \n",
    "\n",
    "## Numerical Methods\n",
    "\n",
    "### Euler Method \n",
    "\n",
    "The Euler's method is based on the definition of derivatives, such as: \n",
    "$$ \\frac{\\mathrm{d} f(t) }{\\mathrm{d}t} \\approx \\frac{f(t + \\delta t) - f(t)}{ \\delta t} \\textrm{.}$$\n",
    "\n",
    "Thus if we want to integrate the function $g(t)$, which is the derivative of the primitive function $f(t)$, we write\n",
    "$$  \\frac{f(t + \\delta t) - f(t)}{ \\delta t} = g(t) \\textrm{,}$$ \n",
    "and isolate $f(t+\\delta t)$\n",
    "$$ f(t + \\delta t) = f(t) + \\delta t g(t) \\textrm{.}$$\n",
    "\n",
    "The integration is an iterative process where we use the previous value of the function $f(t)$ in order to calculate the next value $f(t+\\delta t)$. It is common to find in the literature the Euler method written as \n",
    "$$ f_{n+1} = f_{n} + h g_{n} \\textrm{,}$$\n",
    "where $n$ is the $n$th-iteration. \n"
   ]
  },
  {
   "cell_type": "code",
   "execution_count": 3,
   "metadata": {
    "scrolled": false
   },
   "outputs": [
    {
     "data": {
      "application/vnd.jupyter.widget-view+json": {
       "model_id": "5e6aa70613674382b0b97ad45d4690a0",
       "version_major": 2,
       "version_minor": 0
      },
      "text/plain": [
       "interactive(children=(FloatSlider(value=0.255, description='h', max=0.5, min=0.01), Output()), _dom_classes=('…"
      ]
     },
     "metadata": {},
     "output_type": "display_data"
    }
   ],
   "source": [
    "from ipywidgets import interactive, fixed\n",
    "from euler import euler\n",
    "w = interactive(euler,h=(0.01,0.5))\n",
    "w"
   ]
  },
  {
   "cell_type": "markdown",
   "metadata": {},
   "source": [
    "In the first graphic we can see the result of the integration compared to the exact solution. The Euler method is not perfect, but return quite similar quantitative results to the exact solution and conserves the qualitative behaviour. \n",
    "\n",
    "Change the value of $h$ using the slider and look the difference in the result. What do you observe?\n",
    "\n",
    "\n",
    "### Discrete Laplace operator $\\nabla^2$\n",
    "\n",
    "We will use Finite Difference method with central differences in order to compute the laplacian. We will not show the derivation of the method here, but you can find further discussions in [DLO_1]. \n",
    "\n",
    "The definition of the discrete 2nd order Laplace operator using only first neighbours is\n",
    "\n",
    "$$ \\nabla^2 f(x_1,\\cdots,x_n) \\approx \\sum_{i=1}^N \\frac{\\left(f(x_i+h_i) + f(x_i-h_i) - 2f(x_i) \\right)}{h_i^{2}} \\textrm{.} $$\n"
   ]
  },
  {
   "cell_type": "code",
   "execution_count": 2,
   "metadata": {},
   "outputs": [],
   "source": [
    "def laplacian(f, i, l):\n",
    "    h = 1.\n",
    "    y = i\n",
    "    yh = check_boundary(i+1, l)\n",
    "    yl = check_boundary(i-1, l)\n",
    "    return (f[yh]+f[yl]-2*f[y])/(h*h)"
   ]
  },
  {
   "cell_type": "markdown",
   "metadata": {},
   "source": [
    "The precision can be improved adding more points to compute the laplacian. The following table shows the coefficients for several derivative orders and different precisions. Obtained from [DLO_2]. \n",
    "\n",
    "![table.png](https://gitlab.com/phydev/jupyter_notebooks/raw/master/table.png)\n",
    "\n",
    "[DLO_1] __[Finite Difference - Wikipedia](https://en.wikipedia.org/wiki/Finite_difference)__\n",
    "\n",
    "[DLO_2] __[Central Difference - Wikipedia](https://en.wikipedia.org/wiki/Finite_difference_coefficient)__\n",
    "\n",
    "### Boundary Conditions\n",
    "\n",
    "As in mathematics, when we integrate a function we should have in mind the adequate boundary conditions to be applied. One of the most basic and widely used boundary condition in statistical mechanics is the Periodic Boundary Condition (PBC). PBCs are specially usefull for statistical physics because it enables to mimic an \"infinite\" system.\n",
    "\n",
    "<a title=\"I, Grimlock [CC BY-SA 3.0 (http://creativecommons.org/licenses/by-sa/3.0/)], via Wikimedia Commons\" href=\"https://commons.wikimedia.org/wiki/File:Limiteperiodicite.svg\"><img width=\"328\" alt=\"Limiteperiodicite\" src=\"https://upload.wikimedia.org/wikipedia/commons/thumb/2/2e/Limiteperiodicite.svg/512px-Limiteperiodicite.svg.png\"></a>\n",
    "$\\hspace{10cm}$ **Fig. 2**: Periodic Boundary Conditions in 2D.\n",
    "\n",
    "\n",
    "The $Fig.$ 2 depicts how PBCs works: the box in the center is the real simulation box; the boxes around are the images; when a particle goes out of the main box, another particle from an image box enter the main simulation box (particle conservation); in practice the particle that leaves the box from one side re-enters at the opposite side.\n",
    "\n",
    "There are other boundary conditions in the literature (open boundaries, zero flow, fixed, etc), but we will not discuss them here. The following function *check_boundary* can be used for periodic, Neumann and mirroring boundary conditions. "
   ]
  },
  {
   "cell_type": "code",
   "execution_count": 8,
   "metadata": {},
   "outputs": [],
   "source": [
    "def check_boundary(x, x0, x1, b0, b1):\n",
    "    \"\"\" \n",
    "         This routine was adapted from c++,\n",
    "         written originally in https://github.com/mesoscale/mmsp  \n",
    "         \n",
    "         x  (real) : is the coordinate your want to apply the boundary conditions\n",
    "         x0 (real) : lower boundary\n",
    "         x1 (real) : upper boundary\n",
    "         b0 (string) : condition for the lower boundary\n",
    "         b1 (string) : condition for the upper boundary\n",
    "         \n",
    "    \"\"\"\n",
    "    if(x<x0):\n",
    "        if (b0 == 'Neumann' or b0 == 'Dirichlet'): \n",
    "            x = x0\n",
    "        elif (b0 == 'periodic'):\n",
    "            x = x1 - (x0 - x)\n",
    "        elif (b0 == 'mirror'):\n",
    "            x = 2 * x0 - x\n",
    "    elif(x>=x1):\n",
    "        if (b1 == 'Neumann' or b1 == 'Dirichlet'):\n",
    "            x = (x1 - 1)\n",
    "        elif (b1 == 'periodic'):\n",
    "            x = x0 + (x - x1)\n",
    "        elif (b1 == 'mirror'): \n",
    "            x = 2 * (x1 - 1) - x\n",
    "    return x"
   ]
  },
  {
   "cell_type": "markdown",
   "metadata": {},
   "source": [
    "\n",
    "## Implementation\n",
    "\n",
    "Now we have all the main ingredients to integrate the diffusion equation, re-rewritting it using Finite Differences and the Euler method\n",
    "$$ \\frac{f(x,t+\\delta t)-f(x,t) }{\\delta t} = D \\left[ f(x+h,t) + f(x-h,t) - 2f(x,t) \\right] \\textrm{,} $$ \n",
    "\n",
    "$$ f(x,t+\\delta t) = f(x,t) + \\delta t D \\left[ f(x+h,t) + f(x-h,t) - 2f(x,t) \\right] \\textrm{.} $$ \n",
    "\n",
    "\n",
    "In the code diffusion.py we have each part of the code separated in different funtions which is a good practice of coding. The function *laplacian* calculates the laplacian, the function *integrate* uses Euler's method to integrate the diffusion equation in time. We have the *init* function to compute the gaussian distribution as the initial condition. "
   ]
  },
  {
   "cell_type": "code",
   "execution_count": 7,
   "metadata": {},
   "outputs": [
    {
     "data": {
      "image/png": "[encoded data removed]",
      "text/plain": [
       "<Figure size 432x288 with 1 Axes>"
      ]
     },
     "metadata": {
      "needs_background": "light"
     },
     "output_type": "display_data"
    }
   ],
   "source": [
    "import diffusion as df\n",
    "import matplotlib.pyplot as plt\n",
    "l = 100 # spatial length\n",
    "dt = 0.01 # time increment\n",
    "final_time = 100\n",
    "A = df.init(l) # initializing array with a Gaussian distribution\n",
    "\n",
    "plt.plot(A,label='Initial') # plot initial condition\n",
    "\n",
    "A = df.integrate(A, dt, final_time)\n",
    "\n",
    "plt.plot(A, label='Final') # \n",
    "plt.legend()\n",
    "plt.show()"
   ]
  },
  {
   "cell_type": "markdown",
   "metadata": {},
   "source": [
    "Change the *final_time* and see what happens (test using a long period, e.g. 1000). What conclusions can you draw from the results above? Does it behave as expected for a diffusion system?"
   ]
  }
 ],
 "metadata": {
  "kernelspec": {
   "display_name": "Python 3",
   "language": "python",
   "name": "python3"
  },
  "language_info": {
   "codemirror_mode": {
    "name": "ipython",
    "version": 3
   },
   "file_extension": ".py",
   "mimetype": "text/x-python",
   "name": "python",
   "nbconvert_exporter": "python",
   "pygments_lexer": "ipython3",
   "version": "3.7.2"
  }
 },
 "nbformat": 4,
 "nbformat_minor": 2
}
